{
 "cells": [
  {
   "cell_type": "markdown",
   "id": "576a4801",
   "metadata": {},
   "source": [
    "### !!! Before running the code below, please run the script \"01_Database_CA2_Tan Thien Nguyen.sql\" first !!!"
   ]
  },
  {
   "cell_type": "markdown",
   "id": "92fbd737",
   "metadata": {},
   "source": [
    "### The Idea \n",
    "#Step 0: Create 3 raw tables and 3 views on MariaDB in script \"01_Database_CA2_Tan Thien Nguyen.sql\"\n",
    "   - prime_minister_raw stores PM_No., PM_Name, URL, Born_Date, Died_Date, Start_Date, End_Date and Party information\n",
    "   - prime_minister_province stores only PM_No., PM_Name and Province information\n",
    "   - province_raw stores province master information\n",
    "   - Three views (v_pm_province_master, v_prime_minister_master, v_province_master) are used to store transformed data\n",
    "   \n",
    "#Step 1: Find the tables which contain the information of PMs and provinces by using soup\n",
    "\n",
    "#Step 2: Create function to get PMs' born date and died date based on URL\n",
    "\n",
    "#Step 3: Declare SQL variables which are used for inserting data into database\n",
    "\n",
    "#Step 4: Insert Data into Province Master table - province_raw\n",
    "\n",
    "#Step 5: Insert Data into the table prime_minister_province\n",
    "\n",
    "#Step 6: Biggest step - Scraping data of all prime ministers and Insert raw data into the table prime_minister_raw\n",
    "\n",
    "#Step 7: Answer the questions by using DBcm to get data and pandas to display\n",
    "\n",
    "----------------------"
   ]
  },
  {
   "cell_type": "markdown",
   "id": "08923b6d",
   "metadata": {},
   "source": [
    "### Step 1: Find the tables which contain the information of PMs and provinces"
   ]
  },
  {
   "cell_type": "code",
   "execution_count": null,
   "id": "1c6b2858",
   "metadata": {},
   "outputs": [],
   "source": [
    "URL = \"https://en.wikipedia.org/wiki/List_of_prime_ministers_of_Canada\"\n",
    "\n",
    "import gazpacho\n",
    "\n",
    "from gazpacho import get\n",
    "html = get(URL)\n",
    "\n",
    "from gazpacho import Soup\n",
    "soup = Soup(html)\n",
    "\n",
    "tables = soup.find(\"table\")\n",
    "for i, t in enumerate(tables):\n",
    "    if t.attrs[\"class\"] == \"wikitable\":  # Looking for only the wikitables.\n",
    "        rows = t.find(\"tr\")\n",
    "        # Check if we are getting back a Soup or a List.\n",
    "        if isinstance(rows, list):\n",
    "            print(i, len(rows))\n",
    "        else:\n",
    "            print(i, \"Table has only one row - is it Soup?\")\n",
    "\n",
    "provinceall = tables[0]\n",
    "prime = tables[1]\n",
    "prime_tr = prime.find(\"tr\")"
   ]
  },
  {
   "cell_type": "markdown",
   "id": "b797bfbe",
   "metadata": {},
   "source": [
    "### Step 2: Create function to get born date and died date based on URL"
   ]
  },
  {
   "cell_type": "code",
   "execution_count": null,
   "id": "db44a5fa",
   "metadata": {},
   "outputs": [],
   "source": [
    "camonth = ('JANUARY','FEBRUARY','MARCH','APRIL','MAY','JUNE','JULY','AUGUST','SEPTEMBER','OCTOBER','NOVEMBER','DECEMBER')\n",
    "\n",
    "def getBornDiedDate(URL):\n",
    "    html = get(URL)\n",
    "    soup = Soup(html)\n",
    "    tables = soup.find(\"table\")\n",
    "    information = tables[0].find(\"tr\")\n",
    "    if not isinstance(information, list):\n",
    "        information = tables[1].find(\"tr\")\n",
    "    li = []\n",
    "    \n",
    "    # Looking for the the row containing born date and died date\n",
    "    for i, t in enumerate(information):\n",
    "        if t.find(\"th\") != None:\n",
    "            rows = t.find(\"th\")\n",
    "            if (not isinstance(rows,list) and (rows.text == \"Born\" or rows.text == \"Died\")):\n",
    "                info = information[i].strip().upper()\n",
    "                upperInfo = info.upper()\n",
    "                # Extract born date from here\n",
    "                for inmo in camonth: \n",
    "                    if upperInfo.find(inmo) > 1:\n",
    "                        i = upperInfo.find(inmo)\n",
    "                        shortInfo = upperInfo[i:]\n",
    "                        blankspindex = shortInfo.find(\" \")    #Find the nearest space with month name to find comma\n",
    "                        commastr = shortInfo[:blankspindex+5] #Check comma nearest with month name to avoid get comma from other part, e.g. Ontario, Canada\n",
    "                        commaindex = commastr.find(\",\")\n",
    "                        if commaindex > 1:  # if True, type date is January 12, 1821 if False, type date is 12 January 1821\n",
    "                            finaldate = shortInfo[:commaindex+6]\n",
    "                        else:\n",
    "                            finaldate = upperInfo[i-3:i].replace(\")\",\"\") + shortInfo[:blankspindex+5]\n",
    "                        li.append(finaldate.replace(\",\",\"\").title())\n",
    "    if len(li) < 2:\n",
    "        li.append(None)\n",
    "        if li[0][0].isnumeric() == False and li[0][1].isnumeric() == True:\n",
    "            li[0] = li[0][1:]\n",
    "    else:\n",
    "        if li[0][0].isnumeric() == False and li[0][1].isnumeric() == True:\n",
    "            li[0] = li[0][1:]\n",
    "        if li[1][0].isnumeric() == False and li[1][1].isnumeric() == True:\n",
    "            li[1] = li[1][1:]\n",
    "    return (li)"
   ]
  },
  {
   "cell_type": "markdown",
   "id": "a3e1d171",
   "metadata": {},
   "source": [
    "### Step 3: Declare variables which are used for inserting data into database"
   ]
  },
  {
   "cell_type": "code",
   "execution_count": null,
   "id": "c3a92c3a",
   "metadata": {},
   "outputs": [],
   "source": [
    "import DBcm\n",
    "\n",
    "config = {\n",
    "    'host':'127.0.0.1',\n",
    "    'database':'canada_pm_tan',\n",
    "    'user':'tan',\n",
    "    'password':'123456'\n",
    "}\n",
    "\n",
    "SQL_Truncate_Prime = \"\"\"\n",
    "Truncate table prime_minister_raw;\n",
    "\"\"\"\n",
    "\n",
    "SQL_Insert_Prime = \"\"\"\n",
    "Insert into prime_minister_raw(pmno, name, url, birthdeath, pmborndate, pmdieddate, startoffice, endoffice, party)\n",
    "values (%s,%s,%s,%s,%s,%s,%s,%s,%s);\n",
    "\"\"\"\n",
    "\n",
    "SQL_PM_Province_Truncate = \"\"\"\n",
    "Truncate table prime_minister_province;\n",
    "\"\"\"\n",
    "\n",
    "SQL_PM_Province = \"\"\"\n",
    "Insert into prime_minister_province(pmno, name, code, province)\n",
    "values (%s,%s,%s,%s);\n",
    "\"\"\"\n",
    "\n",
    "SQL_Master_Province_Truncate = \"\"\"\n",
    "Truncate table province_raw;\n",
    "\"\"\"\n",
    "\n",
    "SQL_Master_Province = \"\"\"\n",
    "Insert into province_raw(code, province)\n",
    "values (%s,%s);\n",
    "\"\"\""
   ]
  },
  {
   "cell_type": "markdown",
   "id": "b26275d4",
   "metadata": {},
   "source": [
    "### Step 4: Insert Data into Province Master table"
   ]
  },
  {
   "cell_type": "code",
   "execution_count": null,
   "id": "d3b4a801",
   "metadata": {},
   "outputs": [],
   "source": [
    "pv = provinceall.find(\"tr\")[2].find(\"td\")[1].strip().replace(\", \",\",\").split(\",\")\n",
    "\n",
    "with DBcm.UseDatabase(config) as cursor:\n",
    "    cursor.execute(SQL_Master_Province_Truncate)\n",
    "    \n",
    "for p in pv:\n",
    "    code = p[0:2]\n",
    "    print(code)\n",
    "    provincedetail = p[4:]\n",
    "    print(provincedetail)\n",
    "    with DBcm.UseDatabase(config) as cursor:\n",
    "        cursor.execute(SQL_Master_Province,(code,provincedetail))"
   ]
  },
  {
   "cell_type": "markdown",
   "id": "07b3d0d2",
   "metadata": {},
   "source": [
    "### Step 5: Insert Data into the table Prime_Minister_Province"
   ]
  },
  {
   "cell_type": "code",
   "execution_count": null,
   "id": "1645c6ae",
   "metadata": {},
   "outputs": [],
   "source": [
    "i = 0\n",
    "\n",
    "with DBcm.UseDatabase(config) as cursor:\n",
    "    cursor.execute(SQL_PM_Province_Truncate)\n",
    "\n",
    "for pt in (prime_tr[1:]):  # Start from detail rows\n",
    "    rows = pt.find(\"td\")               # Get all columns in the rows\n",
    "    if isinstance(rows, list):    # if there is multiple columns, we need it, if only one columns, it means row for detail with colspan = 4\n",
    "        if len(rows) == 8:  # for row contain PM infor\n",
    "            tag = pt.find(\"td\")[2].find(\"a\")   # find column contain infor of Name, birth death and province\n",
    "            if isinstance(tag, list):  # if have multiple tags, it means that it contain name and link for province, if not, it means it only contain name eg. John Abbolt\n",
    "                i = i + 1\n",
    "                pmNo = pt.find(\"td\")[0].text.replace(\"(\",\"\").replace(\")\",\"\")\n",
    "                pmName = pt.find(\"td\")[2].find(\"a\")[0].attrs[\"title\"]\n",
    "                li = pt.find(\"td\")[2].strip().split(\"MP\")[1:]\n",
    "                for province in li:\n",
    "                    print(i)\n",
    "                    print(pmNo)\n",
    "                    print(pmName)\n",
    "                    print(province)\n",
    "                    if province.find(\",\") > 1 :\n",
    "                        code = province[province.find(\",\")+2: province.find(\",\")+4]\n",
    "                    else:\n",
    "                        code = province\n",
    "                    print(code)\n",
    "                    with DBcm.UseDatabase(config) as cursor:\n",
    "                        cursor.execute(SQL_PM_Province,(pmNo,pmName,code,province))\n",
    "\n",
    "            else:\n",
    "                i = i + 1\n",
    "                pmNo = pt.find(\"td\")[0].text.replace(\"(\",\"\").replace(\")\",\"\")\n",
    "                pmName = pt.find(\"td\")[2].find(\"a\").attrs[\"title\"]\n",
    "                pmProvince = pt.find(\"td\")[2].strip().split(\")\")[1]\n",
    "                print(i)\n",
    "                print(pmNo)\n",
    "                print(pmName)\n",
    "                print(pmProvince)\n",
    "                if pmProvince.find(\"for\") > 1 :\n",
    "                    code = pmProvince[pmProvince.find(\"for\")+4: ]\n",
    "                else:\n",
    "                    code = \"No Province\"\n",
    "                print(code)\n",
    "                with DBcm.UseDatabase(config) as cursor:\n",
    "                    cursor.execute(SQL_PM_Province,(pmNo,pmName,code,province))\n",
    "            print(\"-------------------\")"
   ]
  },
  {
   "cell_type": "markdown",
   "id": "bc2917c2",
   "metadata": {},
   "source": [
    "## Step 6: Biggest step - Scraping data of all prime ministers and Insert raw data into the table prime_minister_raw. This step usually takes 30s to complete"
   ]
  },
  {
   "cell_type": "code",
   "execution_count": null,
   "id": "51abdc24",
   "metadata": {},
   "outputs": [],
   "source": [
    "\n",
    "with DBcm.UseDatabase(config) as cursor:\n",
    "    cursor.execute(SQL_Truncate_Prime)\n",
    "\n",
    "i = 0\n",
    "\n",
    "for pt in (prime_tr[1:]):  # start from detail rows\n",
    "    rows = pt.find(\"td\")               # how many columns the row has\n",
    "    if isinstance(rows, list):    # if there is multiple columns, we need it, if only one columns, it means row for detail with colspan = 4\n",
    "        if len(rows) == 8:  # for row contain PM infor\n",
    "            tag = pt.find(\"td\")[2].find(\"a\")   # find column contain infor of Name, birth death and province\n",
    "            if isinstance(tag, list):  # if have multiple tags, it means that it contain name and link for province, if not, it means it only contain name eg. John Abbolt\n",
    "                i = i + 1\n",
    "                pmNo = pt.find(\"td\")[0].text.replace(\"(\",\"\").replace(\")\",\"\")\n",
    "                pmName = pt.find(\"td\")[2].find(\"a\")[0].attrs[\"title\"]\n",
    "                pmUrl = pt.find(\"td\")[2].find(\"a\")[0].attrs[\"href\"]\n",
    "                pmBirthDeath = pt.find(\"td\")[2].find(\"small\")[0].text.replace(chr(8211),\"-\")\n",
    "                \n",
    "                if pmNo == \"20\":\n",
    "                    pmUrl = \"/wiki/Jean_Chretien\"\n",
    "                fullURL = \"https://en.wikipedia.org\" + pmUrl\n",
    "                pmBornDate = getBornDiedDate(fullURL)[0]\n",
    "                pmDiedDate = getBornDiedDate(fullURL)[1]\n",
    "                \n",
    "                pmStart = pt.find(\"td\")[3].strip().split(chr(8211))[0]\n",
    "                \n",
    "                pmEnd = pt.find(\"td\")[3].strip().split(chr(8211))[1].replace(\"[*]\",\"\")\n",
    "                start = pmEnd.find(\"/\")\n",
    "                end = pmEnd.find(\" \")\n",
    "                removest = pmEnd[start:end]\n",
    "                pmEnd = pmEnd.replace(removest,\"\")\n",
    "                if pmEnd.find(\"cumbent\") > 1:\n",
    "                    pmEnd = None\n",
    "                \n",
    "                pmParty = pt.find(\"td\")[5].text\n",
    "            else:\n",
    "                i = i + 1\n",
    "                pmNo = pt.find(\"td\")[0].text.replace(\"(\",\"\").replace(\")\",\"\")\n",
    "                pmName = pt.find(\"td\")[2].find(\"a\").attrs[\"title\"]\n",
    "                pmUrl = pt.find(\"td\")[2].find(\"a\").attrs[\"href\"]\n",
    "                pmBirthDeath = pt.find(\"td\")[2].find(\"small\")[0].text.replace(chr(8211),\"-\")\n",
    "                \n",
    "                fullURL = \"https://en.wikipedia.org\" + pmUrl\n",
    "                pmBornDate = getBornDiedDate(fullURL)[0]\n",
    "                pmDiedDate = getBornDiedDate(fullURL)[1]\n",
    "                \n",
    "                pmStart = pt.find(\"td\")[3].strip().split(chr(8211))[0]\n",
    "                \n",
    "                pmEnd = pt.find(\"td\")[3].strip().split(chr(8211))[1].replace(\"[*]\",\"\")\n",
    "                start = pmEnd.find(\"/\")\n",
    "                end = pmEnd.find(\" \")\n",
    "                removest = pmEnd[start:end]\n",
    "                pmEnd = pmEnd.replace(removest,\"\")\n",
    "                \n",
    "                pmParty = pt.find(\"td\")[5].text\n",
    "        else: ## for row only containt term of office Robert Borden\n",
    "            pmNo = pmNo\n",
    "            pmName = pmName\n",
    "            pmUrl = pmUrl\n",
    "            pmBirthDeath = pmBirthDeath\n",
    "            pmBornDate = pmBornDate\n",
    "            pmDiedDate = pmDiedDate\n",
    "            pmStart = pt.find(\"td\")[0].strip().split(chr(8211))[0]\n",
    "            pmEnd = pt.find(\"td\")[0].strip().split(chr(8211))[1].replace(\"[*]\",\"\")\n",
    "            pmParty = pt.find(\"td\")[2].text\n",
    "        print(i)\n",
    "        print(pmNo)\n",
    "        print(pmName)\n",
    "        print(\"https://en.wikipedia.org\" + pmUrl)\n",
    "        print(pmBirthDeath)\n",
    "        print(pmBornDate)\n",
    "        print(pmDiedDate)\n",
    "        print(pmStart)\n",
    "        print(pmEnd)\n",
    "        print(pmParty)\n",
    "        print(\"-------------------\")\n",
    "        \n",
    "        with DBcm.UseDatabase(config) as cursor:\n",
    "            cursor.execute(SQL_Insert_Prime,(pmNo,pmName,pmUrl,pmBirthDeath,pmBornDate,pmDiedDate,pmStart,pmEnd,pmParty))"
   ]
  },
  {
   "cell_type": "markdown",
   "id": "2f5d8549",
   "metadata": {},
   "source": [
    "### Step 7: Answers"
   ]
  },
  {
   "cell_type": "code",
   "execution_count": null,
   "id": "bb7f1437",
   "metadata": {},
   "outputs": [],
   "source": [
    "import pandas as pd"
   ]
  },
  {
   "cell_type": "markdown",
   "id": "2cf88dae",
   "metadata": {},
   "source": [
    "#### (a) Which political party has produced the most individual prime ministers? [2]"
   ]
  },
  {
   "cell_type": "code",
   "execution_count": null,
   "id": "4fed84dd",
   "metadata": {},
   "outputs": [],
   "source": [
    "SQL_a = \"\"\"\n",
    "select party, count(name) as prime_minister_count \n",
    "from v_prime_minister_master group by party \n",
    "order by count(name) desc limit 1;\n",
    "\"\"\"\n",
    "with DBcm.UseDatabase(config) as cursor:\n",
    "    cursor.execute(SQL_a)\n",
    "    data = cursor.fetchall()\n",
    "    labels = ('Party','PM_Count')\n",
    "    df = pd.DataFrame.from_records(data,columns = labels)\n",
    "df"
   ]
  },
  {
   "cell_type": "markdown",
   "id": "92671b63",
   "metadata": {},
   "source": [
    "#### (b) Provide a list of prime ministers who served by province/territory. [3]"
   ]
  },
  {
   "cell_type": "code",
   "execution_count": null,
   "id": "1cd01bad",
   "metadata": {},
   "outputs": [],
   "source": [
    "SQL_b = \"\"\"\n",
    "select code as province_code, province, name from v_pm_province_master order by code;\n",
    "\"\"\"\n",
    "with DBcm.UseDatabase(config) as cursor:\n",
    "    cursor.execute(SQL_b)\n",
    "    data = cursor.fetchall()\n",
    "    labels = ('Province Code','Province Name', 'Prime Minister')\n",
    "    df = pd.DataFrame.from_records(data,columns = labels)\n",
    "df"
   ]
  },
  {
   "cell_type": "markdown",
   "id": "783b3bdc",
   "metadata": {},
   "source": [
    "#### (c) Which political party held the office of prime minister for the longest amount of overall time, and for how long? [3]"
   ]
  },
  {
   "cell_type": "code",
   "execution_count": null,
   "id": "122fd923",
   "metadata": {},
   "outputs": [],
   "source": [
    "SQL_c = \"\"\"\n",
    "select party, sum(held_day) as held_day_sum \n",
    "from ( select party, timestampdiff(day,startoffice, endoffice) as held_day from v_prime_minister_master\n",
    ") h \n",
    "group by party \n",
    "order by held_day_sum desc limit 1;\n",
    "\"\"\"\n",
    "\n",
    "with DBcm.UseDatabase(config) as cursor:\n",
    "    cursor.execute(SQL_c)\n",
    "    data = cursor.fetchall()\n",
    "    labels = ('Party','Total of Held Days')\n",
    "    df = pd.DataFrame.from_records(data,columns = labels)\n",
    "df"
   ]
  },
  {
   "cell_type": "markdown",
   "id": "fac39399",
   "metadata": {},
   "source": [
    "#### (d) Which individual politician held the office of prime minister for the longest amount of uninterrupted time, and for how long? [2]"
   ]
  },
  {
   "cell_type": "code",
   "execution_count": null,
   "id": "6f5c391c",
   "metadata": {},
   "outputs": [],
   "source": [
    "SQL_d = \"\"\"\n",
    "select pmno, name, startoffice, endoffice,\n",
    "timestampdiff(day,startoffice,endoffice) as total_held_day,\n",
    "concat(\n",
    "case when held_year = 0 then '' else held_year end, \n",
    "case when held_year = 0 then '' when held_year = 1 then ' year ' when held_year > 1 then ' years ' end, \n",
    "case when held_month = 0 then '' else held_month end, \n",
    "case when held_month = 0 then '' when held_month = 1 then ' month ' when held_month > 1 then ' months ' end,\n",
    "case when held_day = 0 then '' else held_day end, \n",
    "case when held_day = 0 then '' when held_day = 1 then ' day ' when held_day > 1 then ' days ' end\n",
    ") as Detail\n",
    "from \n",
    "(\n",
    "select pmno, name, startoffice, endoffice,held_year,held_month,\n",
    "timestampadd(month,held_month,year_day) as month_day,\n",
    "timestampdiff(day,timestampadd(month,held_month,year_day),endoffice) as held_day\n",
    "from (\n",
    "select pmno, name, startoffice, endoffice, held_year,\n",
    "timestampadd(year,held_year,startoffice) as year_day,\n",
    "timestampdiff(month,timestampadd(year,held_year,startoffice),endoffice) as held_month\n",
    "from (\n",
    "select pmno, name, startoffice, endoffice, \n",
    "timestampdiff(year,startoffice,endoffice) as held_year \n",
    "from v_prime_minister_master order by held_year desc limit 1\n",
    ") h1\n",
    ") h2\n",
    ") h3;\n",
    "\"\"\"\n",
    "\n",
    "with DBcm.UseDatabase(config) as cursor:\n",
    "    cursor.execute(SQL_d)\n",
    "    data = cursor.fetchall()\n",
    "    labels = ('PM No.','Prime Minister','Start Date','End Date', 'Total of Held Days', 'Detail View')\n",
    "    df = pd.DataFrame.from_records(data,columns = labels)\n",
    "df"
   ]
  },
  {
   "cell_type": "markdown",
   "id": "f2ea53c9",
   "metadata": {},
   "source": [
    "#### (e) Which individual politician has held the office of prime ministers for the longest amount of overall time? [1]"
   ]
  },
  {
   "cell_type": "code",
   "execution_count": null,
   "id": "45b0d1b7",
   "metadata": {},
   "outputs": [],
   "source": [
    "SQL_e = \"\"\"\n",
    "select pmno, name, sum(held_day) as held_day_sum, count(pmno) as term \n",
    "from ( select pmno, name, timestampdiff(day,startoffice,endoffice) as held_day from v_prime_minister_master) h \n",
    "group by pmno, name order by held_day_sum desc limit 1;\n",
    "\"\"\"\n",
    "\n",
    "with DBcm.UseDatabase(config) as cursor:\n",
    "    cursor.execute(SQL_e)\n",
    "    data = cursor.fetchall()\n",
    "    labels = ('PM No.','Prime Minister', 'Total of Held Days','No. of Term')\n",
    "    df = pd.DataFrame.from_records(data,columns = labels)\n",
    "df"
   ]
  },
  {
   "cell_type": "markdown",
   "id": "5d899f9f",
   "metadata": {},
   "source": [
    "#### (f) Which individual politician held the office of prime minister for the shortest amount of overall time, and for how long? [1]"
   ]
  },
  {
   "cell_type": "code",
   "execution_count": null,
   "id": "a7232244",
   "metadata": {},
   "outputs": [],
   "source": [
    "SQL_f = \"\"\"\n",
    "select pmno, name, sum(held_day) as held_day_sum \n",
    "from (select pmno, name, timestampdiff(day,startoffice,endoffice) as held_day from v_prime_minister_master \n",
    ") h \n",
    "group by pmno, name \n",
    "order by held_day_sum asc limit 1;\n",
    "\"\"\"\n",
    "\n",
    "with DBcm.UseDatabase(config) as cursor:\n",
    "    cursor.execute(SQL_f)\n",
    "    data = cursor.fetchall()\n",
    "    labels = ('PM No.','Prime Minister', 'Total of Held Days')\n",
    "    df = pd.DataFrame.from_records(data,columns = labels)\n",
    "df"
   ]
  },
  {
   "cell_type": "markdown",
   "id": "2a1ff009",
   "metadata": {},
   "source": [
    "#### (g) What age was each prime minister on the day they assumed office? [4]"
   ]
  },
  {
   "cell_type": "code",
   "execution_count": null,
   "id": "02704ca2",
   "metadata": {},
   "outputs": [],
   "source": [
    "SQL_g = \"\"\"\n",
    "select pmno, name, pmborndate, startoffice, timestampdiff(year,pmborndate,startoffice) as age \n",
    "from v_prime_minister_master;\n",
    "\"\"\"\n",
    "with DBcm.UseDatabase(config) as cursor:\n",
    "    cursor.execute(SQL_g)\n",
    "    data = cursor.fetchall()\n",
    "    labels = ('PM No.','Prime Minister', 'Born Date', 'Start Date','Age at the Start Date')\n",
    "    df = pd.DataFrame.from_records(data,columns = labels)\n",
    "df"
   ]
  },
  {
   "cell_type": "markdown",
   "id": "7cfa4d31",
   "metadata": {},
   "source": [
    "#### (h) On the last day of their term of office, which politician was the oldest? [1]"
   ]
  },
  {
   "cell_type": "code",
   "execution_count": null,
   "id": "294ac7de",
   "metadata": {},
   "outputs": [],
   "source": [
    "SQL_h = \"\"\"\n",
    "select pmno, name, pmborndate, endoffice, timestampdiff(year,pmborndate,endoffice) as age \n",
    "from v_prime_minister_master \n",
    "order by age desc limit 1;\n",
    "\"\"\"\n",
    "\n",
    "with DBcm.UseDatabase(config) as cursor:\n",
    "    cursor.execute(SQL_h)\n",
    "    data = cursor.fetchall()\n",
    "    labels = ('PM No.','Prime Minister', 'Born Date', 'End Date','Age')\n",
    "    df = pd.DataFrame.from_records(data,columns = labels)\n",
    "df"
   ]
  },
  {
   "cell_type": "markdown",
   "id": "fd6859bc",
   "metadata": {},
   "source": [
    "#### (i) In your view, and based on statistics calculated from your scraped data, which political party is the most successful? Show and describe your reasoning. [3]\n",
    "\n",
    "#### >>> Liberal Party is the most successful political party in Canada because of the following reasons:"
   ]
  },
  {
   "cell_type": "markdown",
   "id": "859b2277",
   "metadata": {},
   "source": [
    "#### (i1.1) - Liberal Party has proceduced the most individual prime minister (13). This number is nearly double the second one (7)"
   ]
  },
  {
   "cell_type": "code",
   "execution_count": null,
   "id": "909a0028",
   "metadata": {},
   "outputs": [],
   "source": [
    "SQL_i11 = \"\"\"\n",
    "select party, count(name) as prime_minister_count \n",
    "from v_prime_minister_master \n",
    "group by party \n",
    "order by count(name) desc;\n",
    "\"\"\"\n",
    "\n",
    "with DBcm.UseDatabase(config) as cursor:\n",
    "    cursor.execute(SQL_i11)\n",
    "    data = cursor.fetchall()\n",
    "    labels = ('Party','Total of PMs')\n",
    "    df = pd.DataFrame.from_records(data,columns = labels)\n",
    "df"
   ]
  },
  {
   "cell_type": "markdown",
   "id": "feae9376",
   "metadata": {},
   "source": [
    "#### (i1.2) - and nearly equal total of the PMs produced by other parties (13 vs 16)"
   ]
  },
  {
   "cell_type": "code",
   "execution_count": null,
   "id": "3618fc27",
   "metadata": {},
   "outputs": [],
   "source": [
    "SQL_i12 = \"\"\"\n",
    "select party, count(name) as prime_minister_count \n",
    "from (\n",
    "select case when party = 'Liberal Party' then 'Liberal Party' else 'Other Parties' end as party, name \n",
    "from v_prime_minister_master \n",
    ") h \n",
    "group by party order by count(name);\n",
    "\"\"\"\n",
    "\n",
    "with DBcm.UseDatabase(config) as cursor:\n",
    "    cursor.execute(SQL_i12)\n",
    "    data = cursor.fetchall()\n",
    "    labels = ('Party','Total of PMs')\n",
    "    df = pd.DataFrame.from_records(data,columns = labels)\n",
    "df"
   ]
  },
  {
   "cell_type": "markdown",
   "id": "e68099ec",
   "metadata": {},
   "source": [
    "#### (i2.1) - Liberal Party has held the office of PM for the longest amount of overall time (more than 32500 days), nearly triple the second one (around 11600 days)\n"
   ]
  },
  {
   "cell_type": "code",
   "execution_count": null,
   "id": "54a876f9",
   "metadata": {},
   "outputs": [],
   "source": [
    "SQL_i21 = \"\"\"\n",
    "select party, sum(held_day) as held_day_sum \n",
    "from (\n",
    "select party, timestampdiff(day,startoffice, endoffice) as held_day from v_prime_minister_master \n",
    ") h \n",
    "group by party \n",
    "order by held_day_sum desc;\n",
    "\"\"\"\n",
    "\n",
    "with DBcm.UseDatabase(config) as cursor:\n",
    "    cursor.execute(SQL_i21)\n",
    "    data = cursor.fetchall()\n",
    "    labels = ('Party','Total of Held Days')\n",
    "    df = pd.DataFrame.from_records(data,columns = labels)\n",
    "df"
   ]
  },
  {
   "cell_type": "markdown",
   "id": "ef957b7f",
   "metadata": {},
   "source": [
    "#### (i2.2.) - and especially, it is much larger than total of the days held by other parties"
   ]
  },
  {
   "cell_type": "code",
   "execution_count": null,
   "id": "321c9fc6",
   "metadata": {},
   "outputs": [],
   "source": [
    "SQL_i22 = \"\"\"\n",
    "select party, sum(held_day) as held_day_sum \n",
    "from (\n",
    "select case when party = 'Liberal Party' then 'Liberal Party' \n",
    "else 'Other Parties' end as party, \n",
    "timestampdiff(day,startoffice, endoffice) as held_day \n",
    "from v_prime_minister_master \n",
    ") h group by party order by held_day_sum desc;\n",
    "\"\"\"\n",
    "\n",
    "with DBcm.UseDatabase(config) as cursor:\n",
    "    cursor.execute(SQL_i22)\n",
    "    data = cursor.fetchall()\n",
    "    labels = ('Party','Total of Held Days')\n",
    "    df = pd.DataFrame.from_records(data,columns = labels)\n",
    "df"
   ]
  },
  {
   "cell_type": "markdown",
   "id": "330816e0",
   "metadata": {},
   "source": [
    "#### (i3) - the last reason, 3 out of 4 last prime ministers come from Liberal Party"
   ]
  },
  {
   "cell_type": "code",
   "execution_count": null,
   "id": "f7014773",
   "metadata": {},
   "outputs": [],
   "source": [
    "SQL_i3 = \"\"\"\n",
    "select pmno, name, party, startoffice, \n",
    "case when endoffice = current_date then 'Incumbent' \n",
    "else endoffice end as endoffice \n",
    "from v_prime_minister_master \n",
    "order by pmno desc limit 4;\n",
    "\"\"\"\n",
    "\n",
    "with DBcm.UseDatabase(config) as cursor:\n",
    "    cursor.execute(SQL_i3)\n",
    "    data = cursor.fetchall()\n",
    "    labels = ('PM No.','Name', 'Party', 'Start Date', 'End Office')\n",
    "    df = pd.DataFrame.from_records(data,columns = labels)\n",
    "df"
   ]
  }
 ],
 "metadata": {
  "kernelspec": {
   "display_name": "Python 3 (ipykernel)",
   "language": "python",
   "name": "python3"
  },
  "language_info": {
   "codemirror_mode": {
    "name": "ipython",
    "version": 3
   },
   "file_extension": ".py",
   "mimetype": "text/x-python",
   "name": "python",
   "nbconvert_exporter": "python",
   "pygments_lexer": "ipython3",
   "version": "3.9.7"
  }
 },
 "nbformat": 4,
 "nbformat_minor": 5
}
